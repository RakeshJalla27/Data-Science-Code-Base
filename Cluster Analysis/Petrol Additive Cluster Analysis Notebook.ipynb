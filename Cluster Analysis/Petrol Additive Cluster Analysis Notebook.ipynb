{
 "cells": [
  {
   "cell_type": "markdown",
   "metadata": {},
   "source": [
    "# CLUSTER ANALYSIS ON FORMAULATIONS OF PETROLEUM\n",
    "\n",
    "This work is intended to identify if the formulations (observations) are significantly different from each other by doing so, we can identify the number of formulations that are similar.  \n",
    "\n",
    "The ingredient.csv file contains various formulations of petroleum using additives a, b, c, d, e, f, g, h and i. The additive names are confidentail and hence characters are used instead of actual additive names.\n",
    "\n",
    "\n"
   ]
  },
  {
   "cell_type": "markdown",
   "metadata": {},
   "source": [
    "Cluster Analysis is an Unsupervised machine Learning technique in which we do not know what is the expected output class unlike Supervised Machine learning methods. The purpose of cluster analysis is to identify various segments, groups or clusters in the dataset by grouping the observations based on datapoints. Clustering algorithms helps us identify unexpected things in the observations which we would not thought of otherwise. "
   ]
  },
  {
   "cell_type": "markdown",
   "metadata": {},
   "source": [
    "In the current work, K-Means and Hierarchical Clustering algorithms are considered for identifying various clusters in the petroleum formulation data."
   ]
  },
  {
   "cell_type": "markdown",
   "metadata": {},
   "source": [
    "### Getting the Dataset\n",
    "A project by the name 'Additive Analysis' is created in the Azureml studio and the dataset 'ingredient.csv' is added as a dataset in the project. Code in the below cell is used for importing the dataset into the current working directory of the notebook to work on the dataset using python."
   ]
  },
  {
   "cell_type": "code",
   "execution_count": 1,
   "metadata": {},
   "outputs": [],
   "source": [
    "\"\"\"\n",
    "#This line is for getting the dataset from the Azure workspace environment\n",
    "import matplotlib.pyplot as plt\n",
    "from azureml import Workspace\n",
    "ws = Workspace()\n",
    "dataset = ws.datasets['ingredient.csv']\n",
    "addit_data = dataset.to_dataframe()\n",
    "\"\"\"\n",
    "import pandas as pd\n",
    "import matplotlib.pyplot as plt\n",
    "addit_data = pd.read_csv('../ingredient.csv')"
   ]
  },
  {
   "cell_type": "code",
   "execution_count": 2,
   "metadata": {},
   "outputs": [
    {
     "data": {
      "text/html": [
       "<div>\n",
       "<style scoped>\n",
       "    .dataframe tbody tr th:only-of-type {\n",
       "        vertical-align: middle;\n",
       "    }\n",
       "\n",
       "    .dataframe tbody tr th {\n",
       "        vertical-align: top;\n",
       "    }\n",
       "\n",
       "    .dataframe thead th {\n",
       "        text-align: right;\n",
       "    }\n",
       "</style>\n",
       "<table border=\"1\" class=\"dataframe\">\n",
       "  <thead>\n",
       "    <tr style=\"text-align: right;\">\n",
       "      <th></th>\n",
       "      <th>a</th>\n",
       "      <th>b</th>\n",
       "      <th>c</th>\n",
       "      <th>d</th>\n",
       "      <th>e</th>\n",
       "      <th>f</th>\n",
       "      <th>g</th>\n",
       "      <th>h</th>\n",
       "      <th>i</th>\n",
       "    </tr>\n",
       "  </thead>\n",
       "  <tbody>\n",
       "    <tr>\n",
       "      <th>0</th>\n",
       "      <td>1.51735</td>\n",
       "      <td>13.02</td>\n",
       "      <td>3.54</td>\n",
       "      <td>1.69</td>\n",
       "      <td>72.73</td>\n",
       "      <td>0.54</td>\n",
       "      <td>8.44</td>\n",
       "      <td>0.00</td>\n",
       "      <td>0.07</td>\n",
       "    </tr>\n",
       "    <tr>\n",
       "      <th>1</th>\n",
       "      <td>1.53125</td>\n",
       "      <td>10.73</td>\n",
       "      <td>0.00</td>\n",
       "      <td>2.10</td>\n",
       "      <td>69.81</td>\n",
       "      <td>0.58</td>\n",
       "      <td>13.30</td>\n",
       "      <td>3.15</td>\n",
       "      <td>0.28</td>\n",
       "    </tr>\n",
       "    <tr>\n",
       "      <th>2</th>\n",
       "      <td>1.52300</td>\n",
       "      <td>13.31</td>\n",
       "      <td>3.58</td>\n",
       "      <td>0.82</td>\n",
       "      <td>71.99</td>\n",
       "      <td>0.12</td>\n",
       "      <td>10.17</td>\n",
       "      <td>0.00</td>\n",
       "      <td>0.03</td>\n",
       "    </tr>\n",
       "    <tr>\n",
       "      <th>3</th>\n",
       "      <td>1.51768</td>\n",
       "      <td>12.56</td>\n",
       "      <td>3.52</td>\n",
       "      <td>1.43</td>\n",
       "      <td>73.15</td>\n",
       "      <td>0.57</td>\n",
       "      <td>8.54</td>\n",
       "      <td>0.00</td>\n",
       "      <td>0.00</td>\n",
       "    </tr>\n",
       "    <tr>\n",
       "      <th>4</th>\n",
       "      <td>1.51813</td>\n",
       "      <td>13.43</td>\n",
       "      <td>3.98</td>\n",
       "      <td>1.18</td>\n",
       "      <td>72.49</td>\n",
       "      <td>0.58</td>\n",
       "      <td>8.15</td>\n",
       "      <td>0.00</td>\n",
       "      <td>0.00</td>\n",
       "    </tr>\n",
       "    <tr>\n",
       "      <th>...</th>\n",
       "      <td>...</td>\n",
       "      <td>...</td>\n",
       "      <td>...</td>\n",
       "      <td>...</td>\n",
       "      <td>...</td>\n",
       "      <td>...</td>\n",
       "      <td>...</td>\n",
       "      <td>...</td>\n",
       "      <td>...</td>\n",
       "    </tr>\n",
       "    <tr>\n",
       "      <th>209</th>\n",
       "      <td>1.52152</td>\n",
       "      <td>13.12</td>\n",
       "      <td>3.58</td>\n",
       "      <td>0.90</td>\n",
       "      <td>72.20</td>\n",
       "      <td>0.23</td>\n",
       "      <td>9.82</td>\n",
       "      <td>0.00</td>\n",
       "      <td>0.16</td>\n",
       "    </tr>\n",
       "    <tr>\n",
       "      <th>210</th>\n",
       "      <td>1.51848</td>\n",
       "      <td>13.64</td>\n",
       "      <td>3.87</td>\n",
       "      <td>1.27</td>\n",
       "      <td>71.96</td>\n",
       "      <td>0.54</td>\n",
       "      <td>8.32</td>\n",
       "      <td>0.00</td>\n",
       "      <td>0.32</td>\n",
       "    </tr>\n",
       "    <tr>\n",
       "      <th>211</th>\n",
       "      <td>1.51784</td>\n",
       "      <td>12.68</td>\n",
       "      <td>3.67</td>\n",
       "      <td>1.16</td>\n",
       "      <td>73.11</td>\n",
       "      <td>0.61</td>\n",
       "      <td>8.70</td>\n",
       "      <td>0.00</td>\n",
       "      <td>0.00</td>\n",
       "    </tr>\n",
       "    <tr>\n",
       "      <th>212</th>\n",
       "      <td>1.51841</td>\n",
       "      <td>12.93</td>\n",
       "      <td>3.74</td>\n",
       "      <td>1.11</td>\n",
       "      <td>72.28</td>\n",
       "      <td>0.64</td>\n",
       "      <td>8.96</td>\n",
       "      <td>0.00</td>\n",
       "      <td>0.22</td>\n",
       "    </tr>\n",
       "    <tr>\n",
       "      <th>213</th>\n",
       "      <td>1.51321</td>\n",
       "      <td>13.00</td>\n",
       "      <td>0.00</td>\n",
       "      <td>3.02</td>\n",
       "      <td>70.70</td>\n",
       "      <td>6.21</td>\n",
       "      <td>6.93</td>\n",
       "      <td>0.00</td>\n",
       "      <td>0.00</td>\n",
       "    </tr>\n",
       "  </tbody>\n",
       "</table>\n",
       "<p>214 rows × 9 columns</p>\n",
       "</div>"
      ],
      "text/plain": [
       "           a      b     c     d      e     f      g     h     i\n",
       "0    1.51735  13.02  3.54  1.69  72.73  0.54   8.44  0.00  0.07\n",
       "1    1.53125  10.73  0.00  2.10  69.81  0.58  13.30  3.15  0.28\n",
       "2    1.52300  13.31  3.58  0.82  71.99  0.12  10.17  0.00  0.03\n",
       "3    1.51768  12.56  3.52  1.43  73.15  0.57   8.54  0.00  0.00\n",
       "4    1.51813  13.43  3.98  1.18  72.49  0.58   8.15  0.00  0.00\n",
       "..       ...    ...   ...   ...    ...   ...    ...   ...   ...\n",
       "209  1.52152  13.12  3.58  0.90  72.20  0.23   9.82  0.00  0.16\n",
       "210  1.51848  13.64  3.87  1.27  71.96  0.54   8.32  0.00  0.32\n",
       "211  1.51784  12.68  3.67  1.16  73.11  0.61   8.70  0.00  0.00\n",
       "212  1.51841  12.93  3.74  1.11  72.28  0.64   8.96  0.00  0.22\n",
       "213  1.51321  13.00  0.00  3.02  70.70  6.21   6.93  0.00  0.00\n",
       "\n",
       "[214 rows x 9 columns]"
      ]
     },
     "execution_count": 2,
     "metadata": {},
     "output_type": "execute_result"
    }
   ],
   "source": [
    "addit_data"
   ]
  },
  {
   "cell_type": "markdown",
   "metadata": {},
   "source": [
    "The above data can be described to have 214 observations or formulations with 9 different additives a to i."
   ]
  },
  {
   "cell_type": "markdown",
   "metadata": {},
   "source": [
    "### Elbow Plot"
   ]
  },
  {
   "cell_type": "markdown",
   "metadata": {},
   "source": [
    "Identifying number of clusters or segments the formulations can be divided into is achieved by Elbow plot when a K-Means clustering algorithm is considered. As an assumption, let us consider 10 clusters initially."
   ]
  },
  {
   "cell_type": "code",
   "execution_count": 3,
   "metadata": {},
   "outputs": [],
   "source": [
    "from sklearn.cluster import KMeans"
   ]
  },
  {
   "cell_type": "markdown",
   "metadata": {},
   "source": [
    "To identify the acceptable number of clusters, let us calculate the Within Cluster Sum of Squared (WCSS) for each cluster from 1 to 10 and observe the significant drops for each cluster as we go on."
   ]
  },
  {
   "cell_type": "code",
   "execution_count": 4,
   "metadata": {},
   "outputs": [
    {
     "name": "stdout",
     "output_type": "stream",
     "text": [
      "[1342.757046644303, 819.6292544515811, 589.0314496288754, 489.0405214469389, 400.4981746098393, 336.6287861121675, 292.8423071754911, 266.72903408820025, 245.35092231886676, 229.02890717661916]\n"
     ]
    }
   ],
   "source": [
    "wcss = []\n",
    "for i in range(1,11):\n",
    "    kmeans = KMeans(n_clusters=i, init='k-means++', max_iter=300, n_init = 10)\n",
    "    kmeans.fit(addit_data)\n",
    "    wcss.append(kmeans.inertia_)\n",
    "print(wcss)"
   ]
  },
  {
   "cell_type": "code",
   "execution_count": 5,
   "metadata": {},
   "outputs": [
    {
     "data": {
      "image/png": "[encoded data removed]",
      "text/plain": [
       "<Figure size 504x504 with 1 Axes>"
      ]
     },
     "metadata": {
      "needs_background": "light"
     },
     "output_type": "display_data"
    }
   ],
   "source": [
    "plt.rcParams[\"figure.figsize\"] = (7,7)\n",
    "plt.plot(range(1,11), wcss, color = 'blue')\n",
    "plt.scatter(range(1,11), wcss, color = 'r')\n",
    "for i in range(10):\n",
    "    plt.annotate(s=i, xy=(i,wcss[i]))\n",
    "plt.title('The Elbow Plot')\n",
    "plt.xlabel('Number of Clusters')\n",
    "plt.ylabel('WCSS')\n",
    "plt.show()"
   ]
  },
  {
   "cell_type": "markdown",
   "metadata": {},
   "source": [
    "Using KMeans clustering, it is observed that the elbow is significantly bent at cluster 3. We can only divide the entire data into a 3 clusters reasonably using the KMeans clustering algorithm. But this does not address our problem to identify if each formulation is significantly differrent from others."
   ]
  },
  {
   "cell_type": "markdown",
   "metadata": {},
   "source": [
    "For a problem like this, it is better to use a Hierarchical Clustering approach where there is an option to choose the optimal number nth cluster depending on the problem we are  trying to address. The bottoms up approach in hierarchical cluster considers every data point in the dataset as a cluster and continues to link datapoints in a cluster if the distance is less than the mean cluster distance. This is carried on until all the data comes under a single cluster. "
   ]
  },
  {
   "cell_type": "markdown",
   "metadata": {},
   "source": [
    "\n",
    "## Agglomorative Hierarchical Clustering "
   ]
  },
  {
   "cell_type": "code",
   "execution_count": 6,
   "metadata": {},
   "outputs": [],
   "source": [
    "data_array = addit_data.iloc[:,:].values\n"
   ]
  },
  {
   "cell_type": "code",
   "execution_count": 14,
   "metadata": {
    "scrolled": true
   },
   "outputs": [
    {
     "data": {
      "image/png": "[encoded data removed]",
      "text/plain": [
       "<Figure size 1800x1440 with 1 Axes>"
      ]
     },
     "metadata": {
      "needs_background": "light"
     },
     "output_type": "display_data"
    }
   ],
   "source": [
    "import scipy.cluster.hierarchy as sch\n",
    "dendrogram = sch.dendrogram(sch.linkage(data_array, method = 'ward'))\n",
    "plt.rcParams[\"figure.figsize\"] = (25,20)\n",
    "plt.title('Dendrogram')\n",
    "plt.xlabel('Formulations')\n",
    "plt.ylabel('Euclidean Distance')\n",
    "plt.show()"
   ]
  },
  {
   "cell_type": "markdown",
   "metadata": {},
   "source": [
    "From the above Dendrogram, it can be observed that the dataset can be largely dividen into 3 clusters. This is the same result as seen from the Elbow plot."
   ]
  },
  {
   "cell_type": "markdown",
   "metadata": {},
   "source": [
    "#### Euclidean Distance\n",
    "Significant difference between two formulations in the dataset can be determined by the 'Euclidean Distance' between the datapoints. However, the minimum Eucidean Distance in this case can be determined with the help of SME.\n",
    "For example, Formulation A and Formulation B are two poitns in the dataset which are significantly different but with the least Euclidean distance between them. Data points with less than this are considered not significantly different. Calculating this distance would need an understanding of the formulations and its features. For the current case, lets assume the value of this Euclidean Distance."
   ]
  },
  {
   "cell_type": "markdown",
   "metadata": {},
   "source": [
    "Details of the Euclidean distances in our data can be found from the below code"
   ]
  },
  {
   "cell_type": "code",
   "execution_count": 8,
   "metadata": {},
   "outputs": [],
   "source": [
    "from sklearn.neighbors import NearestNeighbors\n",
    "nbrs = NearestNeighbors(n_neighbors = len(data_array), algorithm='auto', metric='euclidean').fit(data_array)\n",
    "distances, indices = nbrs.kneighbors(data_array)\n",
    "\n",
    "all_euclidean_distances = []\n",
    "for i in range(len(distances)):\n",
    "    dist=distances[i]\n",
    "    for d in dist:\n",
    "        all_euclidean_distances.append(d)\n",
    "\n",
    "#remove distance 0.0 from the list as 0 is the distance of the point with itself\n",
    "all_euclidean_distances = list(filter(lambda a: a!=0.0, all_euclidean_distances))"
   ]
  },
  {
   "cell_type": "code",
   "execution_count": 9,
   "metadata": {},
   "outputs": [
    {
     "name": "stdout",
     "output_type": "stream",
     "text": [
      "Smallest Euclidean Distance :  0.07681148091197451\n",
      "Largest Euclidean Distance :  12.036968843043514\n",
      "Average Euclidean Distance :  2.901818564119686\n"
     ]
    }
   ],
   "source": [
    "print('Smallest Euclidean Distance : ',min(all_euclidean_distances))\n",
    "print('Largest Euclidean Distance : ',max(all_euclidean_distances))\n",
    "from statistics import mean\n",
    "print('Average Euclidean Distance : ',mean(all_euclidean_distances))"
   ]
  },
  {
   "cell_type": "markdown",
   "metadata": {},
   "source": [
    "From the above printed output, the smallest euclidean distance between the formulations in the dataset is 0.076 and the largest distance is 12.036. The optimal Euclidean Distance determind with the help of an SME can be between these 2 values. Lets assume the optimal value of Euclidean Distance for the formulations to be significantly different is 0.5."
   ]
  },
  {
   "cell_type": "markdown",
   "metadata": {},
   "source": [
    "### Clustering the data based on the Euclidean Distance"
   ]
  },
  {
   "cell_type": "markdown",
   "metadata": {},
   "source": [
    "Lets create a variable 'min_ed' for storing the assumed Eulidean Distance as shown below"
   ]
  },
  {
   "cell_type": "code",
   "execution_count": 10,
   "metadata": {},
   "outputs": [],
   "source": [
    "# min_ed stores the optimum Euclidean Distance between the datapoints which are significantly different. 0.5 as assumed above.\n",
    "opt_ed = 0.5\n",
    "#opt_ed = 0.7 this divided the formulations into 88 clusters\n",
    "#opt_ed = 1.2 this divided the formulations into 58 clusters"
   ]
  },
  {
   "cell_type": "code",
   "execution_count": 11,
   "metadata": {},
   "outputs": [
    {
     "name": "stdout",
     "output_type": "stream",
     "text": [
      "Numer of Clusters : 107\n"
     ]
    }
   ],
   "source": [
    "#Fitting the Hierarchical Clustering the additive formulation dataset\n",
    "from sklearn.cluster import AgglomerativeClustering\n",
    "h_clstr_Obj = AgglomerativeClustering(n_clusters = None,affinity='euclidean', linkage='ward', distance_threshold=opt_ed)\n",
    "data_clustered = h_clstr_Obj.fit_predict(data_array)\n",
    "print('Numer of Clusters : {}'.format(max(data_clustered)))\n",
    "addit_data['cluster'] = data_clustered\n",
    "max_clusters = max(data_clustered)"
   ]
  },
  {
   "cell_type": "markdown",
   "metadata": {},
   "source": [
    "The petroleum formulations are divided into 107 clusters when we assumed an optimum Ecludian Distance for significant difference of 0.5."
   ]
  },
  {
   "cell_type": "markdown",
   "metadata": {},
   "source": [
    "The following method 'getFormulationsOfCluster' returns the records in the dataset of the cluster passed as a parameter to this function."
   ]
  },
  {
   "cell_type": "code",
   "execution_count": 12,
   "metadata": {},
   "outputs": [],
   "source": [
    "##Method to return the formulations for a given cluster number\n",
    "def getFormulationsOfCluster(clstr_no):\n",
    "    if clstr_no > max_clusters:\n",
    "        #if the parameter clstr_no is greater than the max_clusters then return error msg\n",
    "        return 'Error : Exceeded max cluster count '+str(max_clusters)\n",
    "    else:\n",
    "        return addit_data[addit_data['cluster']==clstr_no]"
   ]
  },
  {
   "cell_type": "markdown",
   "metadata": {},
   "source": [
    "The following lines of code is to call the 'getFormulationsOfCluster' with different cluster numbers."
   ]
  },
  {
   "cell_type": "code",
   "execution_count": 13,
   "metadata": {},
   "outputs": [
    {
     "name": "stdout",
     "output_type": "stream",
     "text": [
      "Additive Formulations from cluster 1###################################\n",
      "           a      b     c     d      e     f     g    h     i  cluster\n",
      "25   1.51766  13.21  3.69  1.29  72.61  0.57  8.22  0.0  0.00        1\n",
      "27   1.51754  13.39  3.66  1.19  72.79  0.57  8.27  0.0  0.11        1\n",
      "78   1.51687  13.23  3.54  1.48  72.84  0.56  8.10  0.0  0.00        1\n",
      "92   1.51625  13.36  3.58  1.49  72.72  0.45  8.21  0.0  0.00        1\n",
      "104  1.51646  13.41  3.55  1.25  72.81  0.68  8.10  0.0  0.00        1\n",
      "129  1.51811  13.33  3.85  1.25  72.78  0.52  8.12  0.0  0.00        1 \n",
      "\n",
      "Additive Formulations from cluster 54##################################\n",
      "           a      b     c     d      e     f     g    h     i  cluster\n",
      "56   1.51837  13.14  2.84  1.28  72.85  0.55  9.07  0.0  0.00       54\n",
      "75   1.51778  13.21  2.81  1.29  72.98  0.51  9.02  0.0  0.09       54\n",
      "152  1.51808  13.43  2.87  1.19  72.84  0.55  9.03  0.0  0.00       54 \n",
      "\n",
      "Additive Formulations from cluster 27##################################\n",
      "           a      b    c     d      e    f     g    h    i  cluster\n",
      "205  1.51653  11.95  0.0  1.19  75.18  2.7  8.93  0.0  0.0       27 \n",
      "\n",
      "Additive Formulations from cluster 100#################################\n",
      "          a     b     c     d      e    f     g    h     i  cluster\n",
      "88  1.51926  13.2  3.33  1.28  72.36  0.6  9.14  0.0  0.11      100\n"
     ]
    }
   ],
   "source": [
    "print('Additive Formulations from cluster 1###################################')\n",
    "print(getFormulationsOfCluster(1),'\\n')\n",
    "print('Additive Formulations from cluster 54##################################')\n",
    "print(getFormulationsOfCluster(54),'\\n')\n",
    "print('Additive Formulations from cluster 27##################################')\n",
    "print(getFormulationsOfCluster(27),'\\n')\n",
    "print('Additive Formulations from cluster 100#################################')\n",
    "print(getFormulationsOfCluster(100))"
   ]
  },
  {
   "cell_type": "markdown",
   "metadata": {},
   "source": [
    "### Validation"
   ]
  },
  {
   "cell_type": "markdown",
   "metadata": {},
   "source": [
    "One way of validating the the clustered data is by calculating the Euclidean distance between the formulations between the clusters and within the clusters.\n",
    "The Euclidean Distance for datapoints between the clusters should be greater than 0.5 and the Euclidean Distance for datapoints within the same cluster should be less than 0.5, where 0.5 is the optimal Euclidean Distance obtained to differentiate the formulations. "
   ]
  },
  {
   "cell_type": "markdown",
   "metadata": {},
   "source": [
    "### Prediction\n",
    "For classifying new formulations into a cluster, we need to develop furthur a Supervised Machine Learnin classification model for which the cluster in the above dataset is used as the class to predict while training the model. The number of classes depends on the number of clusters the formulations are segmented into. For a multi-class classification problems, Random Forest Classification, ANN and XGBoost can be great solutions."
   ]
  },
  {
   "cell_type": "markdown",
   "metadata": {},
   "source": [
    "### Conclusion\n",
    "Thus we can conclude, when it is necessary to identify significant difference of the datapoints using clustering algorithms, additive formulation in our case, this can be achieved using Agglomerative Hierarchical Clustering where the number of clusters can be decided based on a parameterized Euclidean Distance."
   ]
  }
 ],
 "metadata": {
  "kernelspec": {
   "display_name": "Python 3",
   "language": "python",
   "name": "python3"
  },
  "language_info": {
   "codemirror_mode": {
    "name": "ipython",
    "version": 3
   },
   "file_extension": ".py",
   "mimetype": "text/x-python",
   "name": "python",
   "nbconvert_exporter": "python",
   "pygments_lexer": "ipython3",
   "version": "3.7.6"
  }
 },
 "nbformat": 4,
 "nbformat_minor": 1
}
